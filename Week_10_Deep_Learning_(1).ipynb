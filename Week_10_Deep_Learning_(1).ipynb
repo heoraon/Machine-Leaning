{
  "nbformat": 4,
  "nbformat_minor": 0,
  "metadata": {
    "colab": {
      "provenance": [],
      "authorship_tag": "ABX9TyPpbNLhToHYN7d3MiYM4wQj",
      "include_colab_link": true
    },
    "kernelspec": {
      "name": "python3",
      "display_name": "Python 3"
    },
    "language_info": {
      "name": "python"
    }
  },
  "cells": [
    {
      "cell_type": "markdown",
      "metadata": {
        "id": "view-in-github",
        "colab_type": "text"
      },
      "source": [
        "<a href=\"https://colab.research.google.com/github/heoraon/Machine-Leaning/blob/main/Week_10_Deep_Learning_(1).ipynb\" target=\"_parent\"><img src=\"https://colab.research.google.com/assets/colab-badge.svg\" alt=\"Open In Colab\"/></a>"
      ]
    },
    {
      "cell_type": "code",
      "execution_count": null,
      "metadata": {
        "id": "st1E7Gqiwmgh"
      },
      "outputs": [],
      "source": [
        "import math #파이썬 사용자 정의 함수(sigmoid 함수 정의)위해 사용\n",
        "import random #학습에 영향을 줄 수 이쓴 a ~ i까지의 초기값 랜덤으로 부여하기 위해 사용"
      ]
    },
    {
      "cell_type": "code",
      "source": [
        "#파라미터 값 랜덤 부여(random의 uniform함수: 괄호 안의 값 범위에서 랜덤한 값 리턴하는 함수)\n",
        "a = random.uniform(-1, 1)\n",
        "b = random.uniform(-1, 1)\n",
        "c = random.uniform(-1, 1)\n",
        "d = random.uniform(-1, 1)\n",
        "e = random.uniform(-1, 1)\n",
        "f = random.uniform(-1, 1)\n",
        "g = random.uniform(-1, 1)\n",
        "h = random.uniform(-1, 1)\n",
        "i = random.uniform(-1, 1)"
      ],
      "metadata": {
        "id": "YkrtIt58ViDl"
      },
      "execution_count": null,
      "outputs": []
    },
    {
      "cell_type": "code",
      "source": [
        "eta = 0.0001 #파이썬 예약어 - 학습률을 지정(경사하강법에서 한 번에 이동하는 값)"
      ],
      "metadata": {
        "id": "fQJppYtGWmMb"
      },
      "execution_count": null,
      "outputs": []
    },
    {
      "cell_type": "code",
      "source": [
        "#sigmoid 함수(활성화 함수) 정의\n",
        "'''\n",
        "한 뉴런에서 임계치 이상의 신호가 올 때\n",
        "다음 뉴런에 신호를 전달하는 기능을 구현하기 위해\n",
        "특정값 이상에서 값이 크게 증가하는 시그모이드 함수를 활용\n",
        "'''\n",
        "def sigmoid(x):\n",
        "  return 1.0/(1.0+math.exp(-x))"
      ],
      "metadata": {
        "id": "wLzqA90qW-J2"
      },
      "execution_count": null,
      "outputs": []
    },
    {
      "cell_type": "code",
      "source": [
        "#데이터셋 정의\n",
        "data=[(5,10), (7, 18), (10, 8), (15, 15), (20, 3), (23, 12)] #데이터\n",
        "labels=[-1, -1, +1, +1, -1, -1] #레이블"
      ],
      "metadata": {
        "id": "W_co-pajXSND"
      },
      "execution_count": null,
      "outputs": []
    },
    {
      "cell_type": "code",
      "source": [
        "#예측 결과 저장을 위한 초기화 리스트 생성\n",
        "zValue=[0, 0, 0, 0, 0, 0]\n",
        "FinalzValue=[0, 0, 0, 0, 0, 0]"
      ],
      "metadata": {
        "id": "UwGbp_OiormL"
      },
      "execution_count": null,
      "outputs": []
    },
    {
      "cell_type": "code",
      "source": [
        "#모델 구현 및 학습\n",
        "for counter in range(1000000): #1000번에 걸쳐 학습\n",
        "  da=db=dc=dd=de=df=dg=dh=di=0.0 #각 가중치/편향의 기울기에 대한 초기값 설정\n",
        "  for idx in range(len(data)): #데이터셋 길이만큼 반복\n",
        "    x=float(data[idx][0]) #데이터(두 쌍의 데이터 중 첫째 값)\n",
        "    y=float(data[idx][1]) #데이터(두 쌍의 데이터 중 둘째 값)\n",
        "    z1=a*x+b*y+c #첫번째 뉴런(입력)\n",
        "    X=sigmoid(z1) #첫번째 뉴런의 출력 값\n",
        "    z2=d*x+e*y+f #두번째 뉴런(입력)\n",
        "    Y=sigmoid(z2) #두번째 뉴런의 출력 값\n",
        "    z=g*X+h*Y+i #세번째 뉴런(출력)\n",
        "    Z=labels[idx] #실제 레이블 값\n",
        "\n",
        "    #백프로퍼게이션(오차 역전파)\n",
        "    dz=2*(z-Z) #출력 뉴런에서의 오차 (MSE: Mean Squared Error의 미분)\n",
        "    dz1=dz*g*sigmoid(z1)*(1.0-sigmoid(z1)) #입력 뉴런 1에 대한 오차 역전파: 연쇄법칙 적용\n",
        "    dz2=dz*h*sigmoid(z2)*(1.0-sigmoid(z2)) #입력 뉴런 1에 대한 오차 역전파: 연쇄법칙 적용\n",
        "\n",
        "    #각 가중치 및 편향에 대한 기울기 누적\n",
        "    da += dz1 * x  #z1에 대한 x의 기울기\n",
        "    db += dz1 * y  #z1에 대한 y의 기울기\n",
        "    dc += dz1      #z1에 대한 편향의 기울기\n",
        "\n",
        "    dd += dz2 * x  #z2에 대한 x의 기울기\n",
        "    de += dz2 * y  #z2에 대한 y의 기울기\n",
        "    df += dz2      #z2에 대한 편향의 기울기\n",
        "\n",
        "    dg += dz * X   #출력 뉴런에 대한 X의 기울기\n",
        "    dh += dz * Y   #출력 뉴런에 대한 Y의 기울기\n",
        "    di += dz       #출력 뉴런에 대한 편향의 기울기\n",
        "\n",
        "  #모든 샘플에 대해 누적된 기울기로 파라미터 업데이트 (경사 하강법)\n",
        "  a = a-eta*da\n",
        "  b = b-eta*db\n",
        "  c = c-eta*dc\n",
        "  d = d-eta*dd\n",
        "  e = e-eta*de\n",
        "  f = f-eta*df\n",
        "  g = g-eta*dg\n",
        "  h = h-eta*dh\n",
        "  i = i-eta*di\n",
        "\n",
        "# 최종적으로 업데이트 된 파라미터 값 출력\n",
        "print(\"a=%lf, b=%lf, c=%lf, d=%lf, e=%lf, f=%lf, g=%lf, h=%lf, i=%lf\" %(a,b,c,d,e,f,g,h,i))"
      ],
      "metadata": {
        "colab": {
          "base_uri": "https://localhost:8080/"
        },
        "id": "w7_JxSd_vxfR",
        "outputId": "f5e25bc8-4c8f-493c-f1a2-43768c08e756"
      },
      "execution_count": null,
      "outputs": [
        {
          "output_type": "stream",
          "name": "stdout",
          "text": [
            "*** 은닉층1 가중치 및 편향 ***\n",
            "a1=0.844836, b1=0.897055, c1=0.804684\n",
            "a2=-1.867130, b2=1.301463, c2=-0.645922\n",
            "a3=0.828237, b3=0.472086, c3=0.700593\n",
            "\n",
            "*** 은닉층2 가중치 및 편향 ***\n",
            "d1=0.563463, e1=-0.931389, f1=-0.530196\n",
            "d2=0.516847, e2=2.650223, f2=-0.856663\n",
            "\n",
            "*** 은닉층3 가중치 및 편향 ***\n",
            "g1=1.486690, h1=-2.074433, i1=-0.011558\n",
            "g2=-0.043440, h2=-1.564379, i2=0.276330\n",
            "\n",
            "*** 출력층 가중치 및 편향 ***\n",
            "j=2.373639, k=1.230169, l=-1.811361\n"
          ]
        }
      ]
    },
    {
      "cell_type": "code",
      "source": [
        "#총 1,000,000번에 걸쳐 예측값 z를 누적합\n",
        "for counter in range(1000000):  #매우 많은 횟수 반복 - 예측값 안정화 목적\n",
        "  for idx in range(len(data)):  #데이터셋 전체에 대해\n",
        "    x = float(data[idx][0])     #입력값 x\n",
        "    y = float(data[idx][1])     #입력값 y\n",
        "\n",
        "    #은닉층 첫 번째 뉴런\n",
        "    z1 = a*x + b*y + c          #가중합 계산\n",
        "    X = sigmoid(z1)             #활성화 함수 통과\n",
        "\n",
        "    #은닉층 두 번째 뉴런\n",
        "    z2 = d*x + e*y + f          #가중합 계산\n",
        "    Y = sigmoid(z2)             #활성화 함수 통과\n",
        "\n",
        "    #출력 뉴런\n",
        "    z = g*X + h*Y + i           #최종 예측값 (z)\n",
        "\n",
        "    #예측값 누적 저장 (예측값들을 계속 더함)\n",
        "    zValue[idx] += z\n",
        "\n",
        "#모든 반복이 끝난 후, 각 데이터 샘플의 예측값 평균 계산\n",
        "for idx in range(len(data)):\n",
        "  FinalzValue[idx] = zValue[idx] / 1000000  #평균 예측값\n",
        "\n",
        "#최종 예측값 출력\n",
        "print(FinalzValue)"
      ],
      "metadata": {
        "colab": {
          "base_uri": "https://localhost:8080/"
        },
        "id": "KDa2OyCBzTW8",
        "outputId": "4bd6be28-4e43-4d59-e8a1-b0cbee7d62ff"
      },
      "execution_count": 19,
      "outputs": [
        {
          "output_type": "stream",
          "name": "stdout",
          "text": [
            "[-1.9758719812072039, -2.023442116585945, 0.9999656190710854, 0.9988904725998017, -1.000115286843063, -0.9997562473436004]\n"
          ]
        }
      ]
    }
  ]
}